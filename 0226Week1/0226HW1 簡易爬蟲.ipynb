{
 "cells": [
  {
   "cell_type": "code",
   "execution_count": 5,
   "metadata": {},
   "outputs": [
    {
     "name": "stdout",
     "output_type": "stream",
     "text": [
      "/bbs/MobileComm/M.1583239170.A.8F2.html [閒聊] 三星 buds plus 值得現在買嗎?\n",
      "/bbs/MobileComm/M.1583239621.A.AC1.html [討論] SONY的人眼/獸眼對焦跟AI有關嗎？\n",
      "/bbs/MobileComm/M.1583240184.A.4F3.html Re: [閒聊] Line商家官方帳號快死光了\n",
      "/bbs/MobileComm/M.1583242111.A.F8A.html [問機] 投射PPT用的平版選擇 12K左右\n",
      "/bbs/MobileComm/M.1583244138.A.8AD.html Re: [新聞] 中國品牌全不見影！台灣首波 5G 旗艦恐\n",
      "/bbs/MobileComm/M.1583245354.A.43D.html [閒聊] 中華續約588後網速只剩10%\n",
      "/bbs/MobileComm/M.1583245376.A.673.html [問題] 今天Google助理一直Say Hi\n",
      "/bbs/MobileComm/M.1583247467.A.E03.html [新聞] 降價策略奏效！蘋果去年Q4手機銷量超華為\n",
      "/bbs/MobileComm/M.1583247658.A.43A.html [問題] realme XT投屏無法全螢幕\n",
      "/bbs/MobileComm/M.1583247866.A.299.html [閒聊] 我日鍾文澤之黑鯊3pro\n",
      "/bbs/MobileComm/M.1583249612.A.BCF.html [討論] 三星S20 Ultra是不是要跌落神壇了\n",
      "/bbs/MobileComm/M.1583249976.A.030.html [問題] 6k首選是8 pro嗎？\n",
      "/bbs/MobileComm/M.1583250889.A.D49.html [心得] 小米手環4 兩個月使用心得\n",
      "/bbs/MobileComm/M.1583250898.A.2E5.html Re: [閒聊] Line商家官方帳號快死光了\n",
      "/bbs/MobileComm/M.1565974783.A.1BF.html [公告] MobileComm板規 20190728版\n",
      "/bbs/MobileComm/M.1574602227.A.4C2.html Fw: [公告] 請使用安全的連線方式連線本站\n"
     ]
    }
   ],
   "source": [
    "import requests\n",
    "from bs4 import BeautifulSoup\n",
    "r = requests.get(\"https://www.ptt.cc/bbs/MobileComm/index.html\") \n",
    "soup = BeautifulSoup(r.text,\"html.parser\") \n",
    "sel = soup.select(\"div.title a\") \n",
    "for s in sel:\n",
    "    print(s[\"href\"], s.text) "
   ]
  },
  {
   "cell_type": "code",
   "execution_count": null,
   "metadata": {},
   "outputs": [],
   "source": []
  }
 ],
 "metadata": {
  "kernelspec": {
   "display_name": "Python 3",
   "language": "python",
   "name": "python3"
  },
  "language_info": {
   "codemirror_mode": {
    "name": "ipython",
    "version": 3
   },
   "file_extension": ".py",
   "mimetype": "text/x-python",
   "name": "python",
   "nbconvert_exporter": "python",
   "pygments_lexer": "ipython3",
   "version": "3.7.4"
  }
 },
 "nbformat": 4,
 "nbformat_minor": 2
}
