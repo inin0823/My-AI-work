{
 "cells": [
  {
   "cell_type": "markdown",
   "metadata": {},
   "source": [
    "# Import 套件"
   ]
  },
  {
   "cell_type": "code",
   "execution_count": 1,
   "metadata": {},
   "outputs": [],
   "source": [
    "import spotipy #取得spotify上歌曲資料的相關套件\n",
    "import spotipy.util as util\n",
    "import pandas as pd\n",
    "import numpy as np "
   ]
  },
  {
   "cell_type": "markdown",
   "metadata": {},
   "source": [
    "# 爬取Spotify歌單中的歌曲資料"
   ]
  },
  {
   "cell_type": "code",
   "execution_count": 2,
   "metadata": {},
   "outputs": [],
   "source": [
    "user_id = 'skm1nkt9xjy2eaousnnuewjev' #Spotify上帳號的ID\n",
    "\n",
    "#Spotify  for Development的ID\n",
    "client_id = '13e9482c45194b90a48366c5c1d58be2' \n",
    "client_secret = '73c8efa165254688b6fb6c62b5e3bba6'\n",
    "\n",
    "token = util.prompt_for_user_token(user_id,\n",
    "                                   'playlist-read-collaborative',\n",
    "                                   client_id=client_id,\n",
    "                                   client_secret=client_secret,\n",
    "                                   redirect_uri='http://localhost:8887/'\n",
    "                                   )"
   ]
  },
  {
   "cell_type": "code",
   "execution_count": 3,
   "metadata": {},
   "outputs": [],
   "source": [
    "sp = spotipy.Spotify(auth=token)"
   ]
  },
  {
   "cell_type": "code",
   "execution_count": null,
   "metadata": {},
   "outputs": [],
   "source": [
    "playlist = sp.user_playlist(user_id, '37i9dQZEVXbMDoHDwVN2tF') #要爬曲歌單的playlist ID"
   ]
  }
 ],
 "metadata": {
  "kernelspec": {
   "display_name": "Python 3",
   "language": "python",
   "name": "python3"
  },
  "language_info": {
   "codemirror_mode": {
    "name": "ipython",
    "version": 3
   },
   "file_extension": ".py",
   "mimetype": "text/x-python",
   "name": "python",
   "nbconvert_exporter": "python",
   "pygments_lexer": "ipython3",
   "version": "3.7.4"
  }
 },
 "nbformat": 4,
 "nbformat_minor": 2
}
